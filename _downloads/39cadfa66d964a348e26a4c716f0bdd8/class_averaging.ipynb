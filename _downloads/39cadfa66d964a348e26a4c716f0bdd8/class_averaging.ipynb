{
  "cells": [
    {
      "cell_type": "code",
      "execution_count": null,
      "metadata": {
        "collapsed": false
      },
      "outputs": [],
      "source": [
        "%matplotlib inline"
      ]
    },
    {
      "cell_type": "markdown",
      "metadata": {},
      "source": [
        "\n# Class Averaging\n\nWe demonstrate class averaging using the rotationally invariant representation algorithm.\n\n"
      ]
    },
    {
      "cell_type": "code",
      "execution_count": null,
      "metadata": {
        "collapsed": false
      },
      "outputs": [],
      "source": [
        "import logging\n\nimport matplotlib.pyplot as plt\nimport numpy as np\nfrom PIL import Image as PILImage\n\nfrom aspire.classification import RIRClass2D\nfrom aspire.image import Image\nfrom aspire.image.xform import NoiseAdder\nfrom aspire.operators import ScalarFilter\nfrom aspire.source import ArrayImageSource  # Helpful hint if you want to BYO array.\nfrom aspire.utils import gaussian_2d\n\nlogger = logging.getLogger(__name__)"
      ]
    },
    {
      "cell_type": "markdown",
      "metadata": {},
      "source": [
        "## Build Simulated Data\n\n"
      ]
    },
    {
      "cell_type": "markdown",
      "metadata": {},
      "source": [
        "### Circular 2D Gaussian Image\n\n"
      ]
    },
    {
      "cell_type": "code",
      "execution_count": null,
      "metadata": {
        "collapsed": false
      },
      "outputs": [],
      "source": [
        "L = 100\nround_disc = gaussian_2d(L, sigma_x=L / 4, sigma_y=L / 4)\nplt.imshow(round_disc)\nplt.show()"
      ]
    },
    {
      "cell_type": "markdown",
      "metadata": {},
      "source": [
        "### Oval 2D Gaussian Image\n\n"
      ]
    },
    {
      "cell_type": "code",
      "execution_count": null,
      "metadata": {
        "collapsed": false
      },
      "outputs": [],
      "source": [
        "oval_disc = gaussian_2d(L, sigma_x=L / 20, sigma_y=L / 5)\nplt.imshow(oval_disc)\nplt.show()"
      ]
    },
    {
      "cell_type": "markdown",
      "metadata": {},
      "source": [
        "### Handed Image\n\nCreate richer test set by including an asymmetric image.\n\n"
      ]
    },
    {
      "cell_type": "code",
      "execution_count": null,
      "metadata": {
        "collapsed": false
      },
      "outputs": [],
      "source": [
        "# Create a second oval.\noval_disc2 = gaussian_2d(L, L / 5, L / 6, sigma_x=L / 15, sigma_y=L / 20)\n\n# Strategically add it to `oval_disc`.\nyoval_discL = oval_disc.copy()\nyoval_discL += oval_disc2\nplt.imshow(yoval_discL)\nplt.show()"
      ]
    },
    {
      "cell_type": "markdown",
      "metadata": {},
      "source": [
        "### Reflected Image\n\nAlso include the reflection of  the asymmetric image.\n\n"
      ]
    },
    {
      "cell_type": "code",
      "execution_count": null,
      "metadata": {
        "collapsed": false
      },
      "outputs": [],
      "source": [
        "yoval_discR = np.flipud(yoval_discL)\nplt.imshow(yoval_discR)\nplt.show()"
      ]
    },
    {
      "cell_type": "markdown",
      "metadata": {},
      "source": [
        "### Example Data Set Source\n\nWe concatenate and shuffle 512 rotations of the Gaussian images above to create our data set.\n\n"
      ]
    },
    {
      "cell_type": "code",
      "execution_count": null,
      "metadata": {
        "collapsed": false
      },
      "outputs": [],
      "source": [
        "# How many entries (angles) in our stack\nN = 512\nthetas = np.linspace(start=0, stop=360, num=N, endpoint=False)\n\nclassRound = np.zeros((N, L, L))\nclassOval = np.zeros((N, L, L))\nclassYOvalL = np.zeros((N, L, L))\nclassYOvalR = np.zeros((N, L, L))\n\nfor i, theta in enumerate(thetas):\n    classRound[i] = np.asarray(PILImage.fromarray(round_disc).rotate(theta))\n    classOval[i] = np.asarray(PILImage.fromarray(oval_disc).rotate(theta))\n    classYOvalL[i] = np.asarray(PILImage.fromarray(yoval_discL).rotate(theta))\n    classYOvalR[i] = np.asarray(PILImage.fromarray(yoval_discR).rotate(theta))\n\n# We'll make an example data set by concatentating then shuffling these.\nexample_array = np.concatenate((classRound, classOval, classYOvalL, classYOvalR))\nnp.random.seed(1234567)\nnp.random.shuffle(example_array)\n\n# So now that we have cooked up an example dataset, lets create an ASPIRE source\nsrc = ArrayImageSource(example_array)\n\n# Let's peek at the images to make sure they're shuffled up nicely\nsrc.images(0, 10).show()"
      ]
    },
    {
      "cell_type": "markdown",
      "metadata": {},
      "source": [
        "## Class Average\n\nWe use the ASPIRE ``RIRClass2D`` class to classify the images via the rotationally invariant representation (RIR)\nalgorithm. We then yield class averages by performing ``classify``.\n\n"
      ]
    },
    {
      "cell_type": "code",
      "execution_count": null,
      "metadata": {
        "collapsed": false
      },
      "outputs": [],
      "source": [
        "rir = RIRClass2D(\n    src,\n    fspca_components=400,\n    bispectrum_components=300,  # Compressed Features after last PCA stage.\n    n_nbor=10,\n    n_classes=10,\n    large_pca_implementation=\"legacy\",\n    nn_implementation=\"legacy\",\n    bispectrum_implementation=\"legacy\",\n)\n\nclasses, reflections, rotations, shifts, corr = rir.classify()"
      ]
    },
    {
      "cell_type": "markdown",
      "metadata": {},
      "source": [
        "### Display Classes\n\n"
      ]
    },
    {
      "cell_type": "code",
      "execution_count": null,
      "metadata": {
        "collapsed": false
      },
      "outputs": [],
      "source": [
        "avgs = rir.output(classes, reflections, rotations)\navgs.images(0, 10).show()"
      ]
    },
    {
      "cell_type": "markdown",
      "metadata": {},
      "source": [
        "## Class Averaging with Noise\n\n"
      ]
    },
    {
      "cell_type": "markdown",
      "metadata": {},
      "source": [
        "### Add Noise to Data Set\n\n"
      ]
    },
    {
      "cell_type": "code",
      "execution_count": null,
      "metadata": {
        "collapsed": false
      },
      "outputs": [],
      "source": [
        "# Using the sample variance, we'll compute a target noise variance\n# Noise\nvar = np.var(src.images(0, src.n).asnumpy())\nnoise_var = var * 2 ** 4\n\n# We create a uniform noise to apply to the 2D images\nnoise_filter = ScalarFilter(dim=2, value=noise_var)\n\n# Then create noise with the ``NoiseAdder`` class.\nnoise = NoiseAdder(seed=123, noise_filter=noise_filter)\n\n# Add noise to the images by performing ``forward``\nnoisy_im = noise.forward(src.images(0, src.n))\n\n# Recast as an ASPIRE source\nnoisy_src = ArrayImageSource(noisy_im)\n\n# Let's peek at the noisey images\nnoisy_src.images(0, 10).show()"
      ]
    },
    {
      "cell_type": "markdown",
      "metadata": {},
      "source": [
        "### RIR with Noise\n\n"
      ]
    },
    {
      "cell_type": "code",
      "execution_count": null,
      "metadata": {
        "collapsed": false
      },
      "outputs": [],
      "source": [
        "# This also demonstrates changing the Nearest Neighbor search to using scikit-learn.\nnoisy_rir = RIRClass2D(\n    noisy_src,\n    fspca_components=400,\n    bispectrum_components=300,\n    n_nbor=10,\n    n_classes=10,\n    large_pca_implementation=\"legacy\",\n    nn_implementation=\"sklearn\",\n    bispectrum_implementation=\"legacy\",\n)\n\nclasses, reflections, rotations, shifts, corr = noisy_rir.classify()"
      ]
    },
    {
      "cell_type": "markdown",
      "metadata": {},
      "source": [
        "### Display Classes\n\n"
      ]
    },
    {
      "cell_type": "code",
      "execution_count": null,
      "metadata": {
        "collapsed": false
      },
      "outputs": [],
      "source": [
        "avgs = noisy_rir.output(classes, reflections, rotations)\navgs.images(0, 10).show()"
      ]
    },
    {
      "cell_type": "markdown",
      "metadata": {},
      "source": [
        "## Review a class\n\nSelect a class to review.\n\n"
      ]
    },
    {
      "cell_type": "code",
      "execution_count": null,
      "metadata": {
        "collapsed": false
      },
      "outputs": [],
      "source": [
        "review_class = 5\n\n# Display the original image.\nnoisy_src.images(review_class, 1).show()\n\n# Report the identified neighbor indices\nlogger.info(f\"Class {review_class}'s neighors: {classes[review_class]}\")\n\n# Report the identified neighbors\nImage(noisy_src.images(0, np.inf)[classes[review_class]]).show()\n\n# Report their associated rots_refls\nrots_refls = [\"index, Rotation, Reflection\"]\nfor i in range(classes.shape[1]):\n    rots_refls.append(\n        f\"{i}, {rotations[review_class, i] * 180 / np.pi}, {reflections[review_class, i]}\"\n    )\nrots_refls = \"\\n\".join(rots_refls)\n\nlogger.info(\n    f\"Class {review_class}'s  estimated Rotations and Reflections:\\n{rots_refls}\"\n)\n\n# Display the averaged result\navgs.images(review_class, 1).show()"
      ]
    }
  ],
  "metadata": {
    "kernelspec": {
      "display_name": "Python 3",
      "language": "python",
      "name": "python3"
    },
    "language_info": {
      "codemirror_mode": {
        "name": "ipython",
        "version": 3
      },
      "file_extension": ".py",
      "mimetype": "text/x-python",
      "name": "python",
      "nbconvert_exporter": "python",
      "pygments_lexer": "ipython3",
      "version": "3.6.15"
    }
  },
  "nbformat": 4,
  "nbformat_minor": 0
}