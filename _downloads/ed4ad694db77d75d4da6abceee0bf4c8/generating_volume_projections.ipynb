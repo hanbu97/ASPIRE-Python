{
  "cells": [
    {
      "cell_type": "code",
      "execution_count": null,
      "metadata": {
        "collapsed": false
      },
      "outputs": [],
      "source": [
        "%matplotlib inline"
      ]
    },
    {
      "cell_type": "markdown",
      "metadata": {},
      "source": [
        "\n# Generating 3D Volume Projections\n\nThis script illustrates using ASPIRE's Simulation source to\ngenerate projections of a Volume using prescribed rotations.\n\n\n"
      ]
    },
    {
      "cell_type": "code",
      "execution_count": null,
      "metadata": {
        "collapsed": false
      },
      "outputs": [],
      "source": [
        "import logging\nimport os\n\nimport mrcfile\nimport numpy as np\n\nfrom aspire.operators import ScalarFilter\nfrom aspire.source.simulation import Simulation\nfrom aspire.utils import Rotation\nfrom aspire.volume import Volume\n\nlogger = logging.getLogger(__name__)"
      ]
    },
    {
      "cell_type": "markdown",
      "metadata": {},
      "source": [
        "## Configure how many images we'd like to project\n\n"
      ]
    },
    {
      "cell_type": "code",
      "execution_count": null,
      "metadata": {
        "collapsed": false
      },
      "outputs": [],
      "source": [
        "n_img = 10"
      ]
    },
    {
      "cell_type": "markdown",
      "metadata": {},
      "source": [
        "## Load our Volume data\nThis example starts with an mrc, loading it as an numpy array\n\n"
      ]
    },
    {
      "cell_type": "code",
      "execution_count": null,
      "metadata": {
        "collapsed": false
      },
      "outputs": [],
      "source": [
        "DATA_DIR = \"data\"  # Tutorial example data folder\nv_npy = mrcfile.open(\n    os.path.join(DATA_DIR, \"clean70SRibosome_vol_65p.mrc\")\n).data.astype(np.float64)\n\n# Then using that to instantiate a Volume, which is downsampled to 60x60x60\nv = Volume(v_npy).downsample(60)"
      ]
    },
    {
      "cell_type": "markdown",
      "metadata": {},
      "source": [
        "## Defining rotations\nThis will force a collection of in plane rotations about z.\n\n"
      ]
    },
    {
      "cell_type": "code",
      "execution_count": null,
      "metadata": {
        "collapsed": false
      },
      "outputs": [],
      "source": [
        "# First get a list of angles to test\nthetas = np.linspace(0, 2 * np.pi, num=n_img, endpoint=False)\n\n# Define helper function for common 3D rotation matrix, about z.\n\n\ndef r_z(theta):\n    return np.array(\n        [\n            [np.cos(theta), -np.sin(theta), 0],\n            [np.sin(theta), np.cos(theta), 0],\n            [0, 0, 1],\n        ]\n    )\n\n\n# Construct a sequence of rotation matrices using r_z(thetas)\n_rots = np.empty((n_img, 3, 3))\nfor n, theta in enumerate(thetas):\n    # Note we negate theta to match Rotation convention.\n    _rots[n] = r_z(-theta)\n\n# Instantiate ASPIRE's Rotation class with the rotation matrices.\n# This will allow us to use or access the rotations in a variety of ways.\nrots = Rotation.from_matrix(_rots)"
      ]
    },
    {
      "cell_type": "markdown",
      "metadata": {},
      "source": [
        "## Configure Noise\nWe can define controlled noise and have the Simulation apply it to our projection images.\n\n"
      ]
    },
    {
      "cell_type": "code",
      "execution_count": null,
      "metadata": {
        "collapsed": false
      },
      "outputs": [],
      "source": [
        "noise_variance = 1e-10  # Normally this would be derived from a desired SNR.\n\n# Then create a constant filter based on that variance, which is passed to Simulation\nwhite_noise_filter = ScalarFilter(dim=2, value=noise_variance)"
      ]
    },
    {
      "cell_type": "markdown",
      "metadata": {},
      "source": [
        "## Setup Simulation Source\n\n"
      ]
    },
    {
      "cell_type": "code",
      "execution_count": null,
      "metadata": {
        "collapsed": false
      },
      "outputs": [],
      "source": [
        "# Simulation will randomly shift and amplify images by default.\n# Instead we define the following parameters.\nshifts = np.zeros((n_img, 2))\namplitudes = np.ones(n_img)\n\n# Create a Simulation Source object\nsrc = Simulation(\n    vols=v,  # our Volume\n    L=v.resolution,  # resolution, should match Volume\n    n=n_img,  # number of projection images\n    C=len(v),  # Number of volumes in vols. 1 in this case\n    angles=rots.angles,  # pass our rotations as Euler angles\n    offsets=shifts,  # translations (wrt to origin)\n    amplitudes=amplitudes,  # amplification ( 1 is identity)\n    seed=12345,  # RNG seed for reproducibility\n    dtype=v.dtype,  # match our datatype to the Volume.\n    noise_filter=white_noise_filter,  # optionally prescribe noise\n)"
      ]
    },
    {
      "cell_type": "markdown",
      "metadata": {},
      "source": [
        "## Yield projection images from the Simulation Source\n\n"
      ]
    },
    {
      "cell_type": "code",
      "execution_count": null,
      "metadata": {
        "collapsed": false
      },
      "outputs": [],
      "source": [
        "# Consume images from the source by providing\n# a starting index and number of images.\n# Here we generate the first 3 and peek at them.\nsrc.images(0, 3).show()\nsrc.projections(0, 3).show()\n\n# Here we return the first n_img images as a numpy array.\ndirty_ary = src.images(0, n_img).asnumpy()\n\n# And we have access to the clean images\nclean_ary = src.projections(0, n_img).asnumpy()\n\n# Similary, the angles/rotations/shifts/amplitudes etc."
      ]
    }
  ],
  "metadata": {
    "kernelspec": {
      "display_name": "Python 3",
      "language": "python",
      "name": "python3"
    },
    "language_info": {
      "codemirror_mode": {
        "name": "ipython",
        "version": 3
      },
      "file_extension": ".py",
      "mimetype": "text/x-python",
      "name": "python",
      "nbconvert_exporter": "python",
      "pygments_lexer": "ipython3",
      "version": "3.6.15"
    }
  },
  "nbformat": 4,
  "nbformat_minor": 0
}